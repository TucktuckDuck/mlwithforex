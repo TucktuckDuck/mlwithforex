{
 "cells": [
  {
   "cell_type": "code",
   "execution_count": 10,
   "metadata": {},
   "outputs": [],
   "source": [
    "import oandapyV20\n",
    "from oandapyV20 import API\n",
    "import json\n",
    "import requests\n",
    "from optparse import OptionParser\n",
    "\n",
    "import oandapyV20.endpoints.accounts as accounts\n",
    "import oandapyV20.endpoints.instruments as instruments\n",
    "import oandapyV20.endpoints.orders as orders\n",
    "import oandapyV20.endpoints.trades as trades\n",
    "import oandapyV20.endpoints.positions as positions\n",
    "import oandapyV20.endpoints.forexlabs as forexlabs\n",
    "import oandapyV20.endpoints.pricing as pricing"
   ]
  },
  {
   "cell_type": "code",
   "execution_count": 3,
   "metadata": {},
   "outputs": [],
   "source": [
    "accountID = '101-011-16471737-001'\n",
    "access_token = 'f73d777cc46fbe316d3d37e1dd69f39b-9e880d54d068f641a47c026680280459'"
   ]
  },
  {
   "cell_type": "code",
   "execution_count": 5,
   "metadata": {},
   "outputs": [],
   "source": [
    "client = API(access_token=access_token,environment='live')"
   ]
  },
  {
   "cell_type": "code",
   "execution_count": 8,
   "metadata": {},
   "outputs": [],
   "source": [
    "domainDict = { 'live' : 'stream-fxtrade.oanda.com',\n",
    "               'demo' : 'stream-fxpractice.oanda.com' }\n",
    "environment = \"live\"\n",
    "domain = domainDict[environment]"
   ]
  },
  {
   "cell_type": "code",
   "execution_count": 16,
   "metadata": {},
   "outputs": [],
   "source": [
    "instruments = 'USD_JPY'"
   ]
  },
  {
   "cell_type": "code",
   "execution_count": null,
   "metadata": {},
   "outputs": [],
   "source": [
    "instruments_list = []"
   ]
  },
  {
   "cell_type": "code",
   "execution_count": null,
   "metadata": {},
   "outputs": [],
   "source": [
    "def get_all_instruments():\n",
    "    "
   ]
  },
  {
   "cell_type": "code",
   "execution_count": 17,
   "metadata": {},
   "outputs": [],
   "source": [
    "def connect_to_stream():\n",
    "    try:\n",
    "        s=requests.Sesssion()\n",
    "        url = \"htttps://\"+domain+\"/v1/prices\"\n",
    "        headers={'Authorization' : 'Bearer'+access_token}\n",
    "        params = {'instrument':instruments,'accountID':accountID}\n",
    "        req = requests.Request('GET',url,headers=headers,params=params)\n",
    "        pre = req.prepare()\n",
    "        resp = s.send(pre,stream=True,verify=True)\n",
    "        return resp\n",
    "    except Exeption as e:\n",
    "        s.close()\n",
    "        print(\"Caught Error with connection stream\\n\"+str(e))"
   ]
  },
  {
   "cell_type": "code",
   "execution_count": 18,
   "metadata": {},
   "outputs": [],
   "source": [
    "def demo(displayHeartbeat):\n",
    "    response = connect_to_stream()\n",
    "    if response.status_code != 200:\n",
    "        print (respone.text)\n",
    "        return\n",
    "    for line in response.iter_lines(1):\n",
    "        if line:\n",
    "            try:\n",
    "                line=line.decode('utf8')\n",
    "                msg = json.load(line)\n",
    "            except Exception as e:\n",
    "                print(\"Caught exception when converting message into json\\n\" + str(e))\n",
    "                return\n",
    "\n",
    "            if \"instrument\" in msg or \"tick\" in msg or displayHeartbeat:\n",
    "                print(line)"
   ]
  },
  {
   "cell_type": "code",
   "execution_count": 19,
   "metadata": {},
   "outputs": [],
   "source": [
    "def main():\n",
    "    usage = \"usage: %prog [options]\"\n",
    "    parser = OptionParser(usage)\n",
    "    parser.add_option(\"-b\", \"--displayHeartBeat\", dest = \"verbose\", action = \"store_true\", \n",
    "                        help = \"Display HeartBeat in streaming data\")\n",
    "    displayHeartbeat = False\n",
    "\n",
    "    (options, args) = parser.parse_args()\n",
    "    if len(args) > 1:\n",
    "        parser.error(\"incorrect number of arguments\")\n",
    "    if options.verbose:\n",
    "        displayHeartbeat = True\n",
    "    demo(displayHeartbeat)"
   ]
  },
  {
   "cell_type": "code",
   "execution_count": 20,
   "metadata": {},
   "outputs": [
    {
     "name": "stderr",
     "output_type": "stream",
     "text": [
      "Usage: ipykernel_launcher.py [options]\n",
      "\n",
      "ipykernel_launcher.py: error: no such option: -f\n",
      "ERROR:root:Internal Python error in the inspect module.\n",
      "Below is the traceback from this internal error.\n",
      "\n"
     ]
    },
    {
     "name": "stdout",
     "output_type": "stream",
     "text": [
      "Traceback (most recent call last):\n",
      "  File \"F:\\ANACONDA3\\lib\\optparse.py\", line 1387, in parse_args\n",
      "    stop = self._process_args(largs, rargs, values)\n",
      "  File \"F:\\ANACONDA3\\lib\\optparse.py\", line 1431, in _process_args\n",
      "    self._process_short_opts(rargs, values)\n",
      "  File \"F:\\ANACONDA3\\lib\\optparse.py\", line 1513, in _process_short_opts\n",
      "    raise BadOptionError(opt)\n",
      "optparse.BadOptionError: no such option: -f\n",
      "\n",
      "During handling of the above exception, another exception occurred:\n",
      "\n",
      "Traceback (most recent call last):\n",
      "  File \"F:\\ANACONDA3\\lib\\site-packages\\IPython\\core\\interactiveshell.py\", line 3331, in run_code\n",
      "    exec(code_obj, self.user_global_ns, self.user_ns)\n",
      "  File \"<ipython-input-20-263240bbee7e>\", line 1, in <module>\n",
      "    main()\n",
      "  File \"<ipython-input-19-3aa64b74e714>\", line 8, in main\n",
      "    (options, args) = parser.parse_args()\n",
      "  File \"F:\\ANACONDA3\\lib\\optparse.py\", line 1389, in parse_args\n",
      "    self.error(str(err))\n",
      "  File \"F:\\ANACONDA3\\lib\\optparse.py\", line 1569, in error\n",
      "    self.exit(2, \"%s: error: %s\\n\" % (self.get_prog_name(), msg))\n",
      "  File \"F:\\ANACONDA3\\lib\\optparse.py\", line 1559, in exit\n",
      "    sys.exit(status)\n",
      "SystemExit: 2\n",
      "\n",
      "During handling of the above exception, another exception occurred:\n",
      "\n",
      "Traceback (most recent call last):\n",
      "  File \"F:\\ANACONDA3\\lib\\site-packages\\IPython\\core\\ultratb.py\", line 1151, in get_records\n",
      "    return _fixed_getinnerframes(etb, number_of_lines_of_context, tb_offset)\n",
      "  File \"F:\\ANACONDA3\\lib\\site-packages\\IPython\\core\\ultratb.py\", line 319, in wrapped\n",
      "    return f(*args, **kwargs)\n",
      "  File \"F:\\ANACONDA3\\lib\\site-packages\\IPython\\core\\ultratb.py\", line 353, in _fixed_getinnerframes\n",
      "    records = fix_frame_records_filenames(inspect.getinnerframes(etb, context))\n",
      "  File \"F:\\ANACONDA3\\lib\\inspect.py\", line 1502, in getinnerframes\n",
      "    frameinfo = (tb.tb_frame,) + getframeinfo(tb, context)\n",
      "AttributeError: 'tuple' object has no attribute 'tb_frame'\n"
     ]
    },
    {
     "ename": "SystemExit",
     "evalue": "2",
     "output_type": "error",
     "traceback": [
      "An exception has occurred, use %tb to see the full traceback.\n",
      "\u001b[1;31m---------------------------------------------------------------------------\u001b[0m",
      "\nDuring handling of the above exception, another exception occurred:\n",
      "\u001b[1;31mSystemExit\u001b[0m\u001b[1;31m:\u001b[0m 2\n"
     ]
    }
   ],
   "source": [
    "main()"
   ]
  },
  {
   "cell_type": "code",
   "execution_count": 26,
   "metadata": {},
   "outputs": [
    {
     "name": "stderr",
     "output_type": "stream",
     "text": [
      "ipykernel_launcher.py: error: no such option: -f\n",
      "ERROR:root:Internal Python error in the inspect module.\n",
      "Below is the traceback from this internal error.\n",
      "\n"
     ]
    },
    {
     "name": "stdout",
     "output_type": "stream",
     "text": [
      "Traceback (most recent call last):\n",
      "  File \"F:\\ANACONDA3\\lib\\optparse.py\", line 1387, in parse_args\n",
      "    stop = self._process_args(largs, rargs, values)\n",
      "  File \"F:\\ANACONDA3\\lib\\optparse.py\", line 1431, in _process_args\n",
      "    self._process_short_opts(rargs, values)\n",
      "  File \"F:\\ANACONDA3\\lib\\optparse.py\", line 1513, in _process_short_opts\n",
      "    raise BadOptionError(opt)\n",
      "optparse.BadOptionError: no such option: -f\n",
      "\n",
      "During handling of the above exception, another exception occurred:\n",
      "\n",
      "Traceback (most recent call last):\n",
      "  File \"F:\\ANACONDA3\\lib\\site-packages\\IPython\\core\\interactiveshell.py\", line 3331, in run_code\n",
      "    exec(code_obj, self.user_global_ns, self.user_ns)\n",
      "  File \"<ipython-input-26-f14c2eed14de>\", line 66, in <module>\n",
      "    main()\n",
      "  File \"<ipython-input-26-f14c2eed14de>\", line 57, in main\n",
      "    (options, args) = parser.parse_args()\n",
      "  File \"F:\\ANACONDA3\\lib\\optparse.py\", line 1389, in parse_args\n",
      "    self.error(str(err))\n",
      "  File \"F:\\ANACONDA3\\lib\\optparse.py\", line 1569, in error\n",
      "    self.exit(2, \"%s: error: %s\\n\" % (self.get_prog_name(), msg))\n",
      "  File \"F:\\ANACONDA3\\lib\\optparse.py\", line 1559, in exit\n",
      "    sys.exit(status)\n",
      "SystemExit: 2\n",
      "\n",
      "During handling of the above exception, another exception occurred:\n",
      "\n",
      "Traceback (most recent call last):\n",
      "  File \"F:\\ANACONDA3\\lib\\site-packages\\IPython\\core\\ultratb.py\", line 1151, in get_records\n",
      "    return _fixed_getinnerframes(etb, number_of_lines_of_context, tb_offset)\n",
      "  File \"F:\\ANACONDA3\\lib\\site-packages\\IPython\\core\\ultratb.py\", line 319, in wrapped\n",
      "    return f(*args, **kwargs)\n",
      "  File \"F:\\ANACONDA3\\lib\\site-packages\\IPython\\core\\ultratb.py\", line 353, in _fixed_getinnerframes\n",
      "    records = fix_frame_records_filenames(inspect.getinnerframes(etb, context))\n",
      "  File \"F:\\ANACONDA3\\lib\\inspect.py\", line 1502, in getinnerframes\n",
      "    frameinfo = (tb.tb_frame,) + getframeinfo(tb, context)\n",
      "AttributeError: 'tuple' object has no attribute 'tb_frame'\n"
     ]
    },
    {
     "ename": "SystemExit",
     "evalue": "2",
     "output_type": "error",
     "traceback": [
      "An exception has occurred, use %tb to see the full traceback.\n",
      "\u001b[1;31m---------------------------------------------------------------------------\u001b[0m",
      "\nDuring handling of the above exception, another exception occurred:\n",
      "\u001b[1;31mSystemExit\u001b[0m\u001b[1;31m:\u001b[0m 2\n"
     ]
    }
   ],
   "source": [
    "def connect_to_stream():\n",
    "\n",
    "#     \"\"\"\n",
    "#     Environment                 Description \n",
    "#     fxTrade (Live)              The live (real money) environment \n",
    "#     fxTrade Practice (Demo)     The demo (simulated money) environment \n",
    "#     \"\"\"\n",
    "#     domainDict = { 'live' : 'stream-fxtrade.oanda.com',\n",
    "#                'demo' : 'stream-fxpractice.oanda.com' }\n",
    "\n",
    "#     # Replace the following variables with your personal values \n",
    "#     environment = \"demo\" # Replace this 'live' if you wish to connect to the live environment \n",
    "#     domain = domainDict[environment] \n",
    "#     access_token = 'REPLACE THIS WITH YOUR ACCESS TOKEN'\n",
    "#     account_id = 'REPLACE THIS WITH YOUR ACCOUNT ID, ie  2252344'\n",
    "    instruments = 'EUR_USD' \n",
    "\n",
    "    try:\n",
    "        s = requests.Session()\n",
    "        url = \"https://\" + domain + \"/v1/prices\"\n",
    "        headers = {'Authorization' : 'Bearer ' + access_token,\n",
    "                   # 'X-Accept-Datetime-Format' : 'unix'\n",
    "                  }\n",
    "        params = {'instruments' : instruments, 'accountId' : account_id}\n",
    "        req = requests.Request('GET', url, headers = headers, params = params)\n",
    "        pre = req.prepare()\n",
    "        resp = s.send(pre, stream = True, verify = True)\n",
    "        return resp\n",
    "    except Exception as e:\n",
    "        s.close()\n",
    "        print(\"Caught exception when connecting to stream\\n\" + str(e)) \n",
    "\n",
    "def demo(displayHeartbeat):\n",
    "    response = connect_to_stream()\n",
    "    if response.status_code != 200:\n",
    "        print(response.text)\n",
    "        return\n",
    "    for line in response.iter_lines(1):\n",
    "        if line:\n",
    "            try:\n",
    "                line = line.decode('utf-8')\n",
    "                msg = json.loads(line)\n",
    "            except Exception as e:\n",
    "                print(\"Caught exception when converting message into json\\n\" + str(e))\n",
    "                return\n",
    "\n",
    "            if \"instrument\" in msg or \"tick\" in msg or displayHeartbeat:\n",
    "                print(line)\n",
    "\n",
    "def main():\n",
    "    usage = \"usage: %prog [options]\"\n",
    "    parser = OptionParser(usage)\n",
    "    parser.add_option(\"-b\", \"--displayHeartBeat\", dest = \"verbose\", action = \"store_true\", \n",
    "                        help = \"Display HeartBeat in streaming data\")\n",
    "    displayHeartbeat = False\n",
    "\n",
    "    (options, args) = parser.parse_args()\n",
    "    if len(args) > 1:\n",
    "        parser.error(\"incorrect number of arguments\")\n",
    "    if options.verbose:\n",
    "        displayHeartbeat = True\n",
    "    demo(displayHeartbeat)\n",
    "\n",
    "\n",
    "if __name__ == \"__main__\":\n",
    "    main()"
   ]
  },
  {
   "cell_type": "code",
   "execution_count": 24,
   "metadata": {},
   "outputs": [
    {
     "name": "stderr",
     "output_type": "stream",
     "text": [
      "Usage: ipykernel_launcher.py [options]\n",
      "\n",
      "ipykernel_launcher.py: error: no such option: -f\n",
      "ERROR:root:Internal Python error in the inspect module.\n",
      "Below is the traceback from this internal error.\n",
      "\n"
     ]
    },
    {
     "name": "stdout",
     "output_type": "stream",
     "text": [
      "Traceback (most recent call last):\n",
      "  File \"F:\\ANACONDA3\\lib\\optparse.py\", line 1387, in parse_args\n",
      "    stop = self._process_args(largs, rargs, values)\n",
      "  File \"F:\\ANACONDA3\\lib\\optparse.py\", line 1431, in _process_args\n",
      "    self._process_short_opts(rargs, values)\n",
      "  File \"F:\\ANACONDA3\\lib\\optparse.py\", line 1513, in _process_short_opts\n",
      "    raise BadOptionError(opt)\n",
      "optparse.BadOptionError: no such option: -f\n",
      "\n",
      "During handling of the above exception, another exception occurred:\n",
      "\n",
      "Traceback (most recent call last):\n",
      "  File \"F:\\ANACONDA3\\lib\\site-packages\\IPython\\core\\interactiveshell.py\", line 3331, in run_code\n",
      "    exec(code_obj, self.user_global_ns, self.user_ns)\n",
      "  File \"<ipython-input-24-263240bbee7e>\", line 1, in <module>\n",
      "    main()\n",
      "  File \"<ipython-input-23-1d9a8b0bcd76>\", line 57, in main\n",
      "    (options, args) = parser.parse_args()\n",
      "  File \"F:\\ANACONDA3\\lib\\optparse.py\", line 1389, in parse_args\n",
      "    self.error(str(err))\n",
      "  File \"F:\\ANACONDA3\\lib\\optparse.py\", line 1569, in error\n",
      "    self.exit(2, \"%s: error: %s\\n\" % (self.get_prog_name(), msg))\n",
      "  File \"F:\\ANACONDA3\\lib\\optparse.py\", line 1559, in exit\n",
      "    sys.exit(status)\n",
      "SystemExit: 2\n",
      "\n",
      "During handling of the above exception, another exception occurred:\n",
      "\n",
      "Traceback (most recent call last):\n",
      "  File \"F:\\ANACONDA3\\lib\\site-packages\\IPython\\core\\ultratb.py\", line 1151, in get_records\n",
      "    return _fixed_getinnerframes(etb, number_of_lines_of_context, tb_offset)\n",
      "  File \"F:\\ANACONDA3\\lib\\site-packages\\IPython\\core\\ultratb.py\", line 319, in wrapped\n",
      "    return f(*args, **kwargs)\n",
      "  File \"F:\\ANACONDA3\\lib\\site-packages\\IPython\\core\\ultratb.py\", line 353, in _fixed_getinnerframes\n",
      "    records = fix_frame_records_filenames(inspect.getinnerframes(etb, context))\n",
      "  File \"F:\\ANACONDA3\\lib\\inspect.py\", line 1502, in getinnerframes\n",
      "    frameinfo = (tb.tb_frame,) + getframeinfo(tb, context)\n",
      "AttributeError: 'tuple' object has no attribute 'tb_frame'\n"
     ]
    },
    {
     "ename": "SystemExit",
     "evalue": "2",
     "output_type": "error",
     "traceback": [
      "An exception has occurred, use %tb to see the full traceback.\n",
      "\u001b[1;31m---------------------------------------------------------------------------\u001b[0m",
      "\nDuring handling of the above exception, another exception occurred:\n",
      "\u001b[1;31mSystemExit\u001b[0m\u001b[1;31m:\u001b[0m 2\n"
     ]
    }
   ],
   "source": []
  },
  {
   "cell_type": "code",
   "execution_count": null,
   "metadata": {},
   "outputs": [],
   "source": []
  }
 ],
 "metadata": {
  "kernelspec": {
   "display_name": "Python 3",
   "language": "python",
   "name": "python3"
  },
  "language_info": {
   "codemirror_mode": {
    "name": "ipython",
    "version": 3
   },
   "file_extension": ".py",
   "mimetype": "text/x-python",
   "name": "python",
   "nbconvert_exporter": "python",
   "pygments_lexer": "ipython3",
   "version": "3.7.6"
  }
 },
 "nbformat": 4,
 "nbformat_minor": 4
}
